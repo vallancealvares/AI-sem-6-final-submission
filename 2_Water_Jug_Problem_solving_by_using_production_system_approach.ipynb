{
  "nbformat": 4,
  "nbformat_minor": 0,
  "metadata": {
    "colab": {
      "provenance": []
    },
    "kernelspec": {
      "name": "python3",
      "display_name": "Python 3"
    },
    "language_info": {
      "name": "python"
    }
  },
  "cells": [
    {
      "cell_type": "code",
      "execution_count": null,
      "metadata": {
        "colab": {
          "base_uri": "https://localhost:8080/"
        },
        "id": "r4rIVBSJYn8B",
        "outputId": "7b460b6a-dcde-4de8-eb2a-ecece199e495"
      },
      "outputs": [
        {
          "output_type": "stream",
          "name": "stdout",
          "text": [
            "Goal state is reachable\n",
            "Steps:\n",
            "(0, 0)\n",
            "(5, 0)\n",
            "(2, 3)\n",
            "(2, 0)\n",
            "(0, 2)\n",
            "(5, 2)\n",
            "(4, 3)\n",
            "(4, 0)\n"
          ]
        }
      ],
      "source": [
        "from collections import deque\n",
        "\n",
        "# Production rules\n",
        "def fill_first_jug(x, y, a):\n",
        "    return (a, y)\n",
        "\n",
        "def fill_second_jug(x, y, b):\n",
        "    return (x, b)\n",
        "\n",
        "def empty_first_jug(x, y):\n",
        "    return (0, y)\n",
        "\n",
        "def empty_second_jug(x, y):\n",
        "    return (x, 0)\n",
        "\n",
        "def pour_from_second_to_first(x, y, a, b):\n",
        "    return (min(x + y, a), max(0, x + y - a))\n",
        "\n",
        "def pour_from_first_to_second(x, y, a, b):\n",
        "    return (max(0, x + y - b), min(x + y, b))\n",
        "\n",
        "# BFS function\n",
        "def bfs(initial_state, goal_state, a, b):\n",
        "    queue = deque([(initial_state, [initial_state])])\n",
        "    visited = set()\n",
        "    while queue:\n",
        "        state, path = queue.popleft()\n",
        "        if state == goal_state:\n",
        "            return path\n",
        "        if state in visited:\n",
        "            continue\n",
        "        visited.add(state)\n",
        "        x, y = state\n",
        "        if x < a:\n",
        "            queue.append((fill_first_jug(x, y, a), path + [fill_first_jug(x, y, a)]))\n",
        "        if y < b:\n",
        "            queue.append((fill_second_jug(x, y, b), path + [fill_second_jug(x, y, b)]))\n",
        "        if x > 0:\n",
        "            queue.append((empty_first_jug(x, y), path + [empty_first_jug(x, y)]))\n",
        "        if y > 0:\n",
        "            queue.append((empty_second_jug(x, y), path + [empty_second_jug(x, y)]))\n",
        "        if y > 0:\n",
        "            queue.append((pour_from_second_to_first(x, y, a, b), path + [pour_from_second_to_first(x, y, a, b)]))\n",
        "        if x > 0:\n",
        "            queue.append((pour_from_first_to_second(x, y, a, b), path + [pour_from_first_to_second(x, y, a, b)]))\n",
        "    return False\n",
        "\n",
        "# Main function\n",
        "def main():\n",
        "    initial_state = (0, 0)\n",
        "    goal_state = (4, 0)\n",
        "    a = 5\n",
        "    b = 3\n",
        "    result = bfs(initial_state, goal_state, a, b)\n",
        "    if result:\n",
        "        print(\"Goal state is reachable\")\n",
        "        print(\"Steps:\")\n",
        "        for step in result:\n",
        "            print(step)\n",
        "    else:\n",
        "        print(\"Goal state is not reachable\")\n",
        "\n",
        "if __name__ == '__main__':\n",
        "    main()\n"
      ]
    },
    {
      "cell_type": "markdown",
      "source": [
        "# Explanation:"
      ],
      "metadata": {
        "id": "RdTOtQPkb_2R"
      }
    },
    {
      "cell_type": "markdown",
      "source": [
        "This code is a solution to a well-known problem in artificial intelligence, called the \"Jugs Problem\". The problem consists of finding a sequence of steps to achieve a certain goal, where the goal is to obtain a specific amount of water in a specified jug, starting from two jugs with a certain capacity, each containing a specific amount of water.\n",
        "\n",
        "The code uses the Breadth-First Search (BFS) algorithm to find a solution to the problem. BFS is a graph traversal algorithm that visits all the nodes of a graph layer by layer, starting from a source node. In this case, the graph is represented by the possible states of the two jugs.\n",
        "\n",
        "The code defines the initial state and the goal state, which are given as tuples of two integers, representing the amount of water in each jug. The capacities of the jugs are specified by the variables a and b.\n",
        "\n",
        "The production rules are defined as functions, which take the current state of the jugs and their capacities as inputs and return the new state of the jugs after a certain operation. These operations are:\n",
        "\n",
        "fill_first_jug: fills the first jug to its maximum capacity.\n",
        "fill_second_jug: fills the second jug to its maximum capacity.\n",
        "empty_first_jug: empties the first jug.\n",
        "empty_second_jug: empties the second jug.\n",
        "pour_from_second_to_first: pours water from the second jug to the first jug until the first jug is full or the second jug is empty.\n",
        "pour_from_first_to_second: pours water from the first jug to the second jug until the second jug is full or the first jug is empty.\n",
        "The bfs function is where the algorithm is implemented. It takes the initial state, the goal state, the capacities of the jugs, as inputs. The function implements a BFS algorithm to find a sequence of operations to reach the goal state.\n",
        "\n",
        "The function uses a queue data structure to store the states to be visited. It starts by adding the initial state and its corresponding path (a list of states) to the queue. Then, it repeatedly pops the state from the front of the queue, checks if it is the goal state, and if not, generates the possible new states using the production rules and adds them to the queue, along with their corresponding path. If the state has already been visited, it is skipped.\n",
        "\n",
        "The main function calls the bfs function and prints the result, which is a list of states representing the sequence of operations to reach the goal state, or False if the goal state is not reachable.\n",
        "\n",
        "Finally, the if __name__ == '__main__': code block ensures that the code is executed only when it is run as a standalone script, and not when it is imported as a module in another script.\n",
        "\n",
        "\n",
        "\n",
        "\n"
      ],
      "metadata": {
        "id": "38KLAGCScD_s"
      }
    }
  ]
}