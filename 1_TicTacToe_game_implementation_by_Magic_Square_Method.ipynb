{
  "nbformat": 4,
  "nbformat_minor": 0,
  "metadata": {
    "colab": {
      "provenance": []
    },
    "kernelspec": {
      "name": "python3",
      "display_name": "Python 3"
    },
    "language_info": {
      "name": "python"
    }
  },
  "cells": [
    {
      "cell_type": "markdown",
      "source": [
        "# Tic Tac Toe code vs AI using magic square method "
      ],
      "metadata": {
        "id": "NkCRlRwrIIaC"
      }
    },
    {
      "cell_type": "code",
      "source": [
        "def print_board():\n",
        "    print(' ', board[0], ' | ', board[1], ' | ', board[2])\n",
        "    print('-----------------------')\n",
        "    print(' ', board[3], ' | ', board[4], ' | ', board[5])\n",
        "    print('-----------------------')\n",
        "    print(' ', board[6], ' | ', board[7], ' | ', board[8])\n",
        "\n",
        "def is_victory(player):\n",
        "    victory_conditions = [\n",
        "        [0, 1, 2], [3, 4, 5], [6, 7, 8],  # rows\n",
        "        [0, 3, 6], [1, 4, 7], [2, 5, 8],  # columns\n",
        "        [0, 4, 8], [2, 4, 6]  # diagonals\n",
        "    ]\n",
        "    for condition in victory_conditions:\n",
        "        if all(board[i] == player for i in condition):\n",
        "            return True\n",
        "    return False\n",
        "\n",
        "def is_draw():\n",
        "    return all(square != ' ' for square in board)\n",
        "\n",
        "def player_move(player):\n",
        "    while True:\n",
        "        move = int(input(f\"Where would you like to place your {player} (1-9)? \"))\n",
        "        if move < 1 or move > 9:\n",
        "            print(\"Invalid move.\")\n",
        "        elif board[move - 1] != ' ':\n",
        "            print(\"That square is already occupied.\")\n",
        "        else:\n",
        "            board[move - 1] = player\n",
        "            break\n",
        "\n",
        "def ai_move(player):\n",
        "    magic_square = [4, 9, 2, 7, 5, 3, 6, 1, 8]\n",
        "    for i, square in enumerate(magic_square):\n",
        "        if board[square - 1] == ' ':\n",
        "            board[square - 1] = player\n",
        "            break\n",
        "\n",
        "board = [' ' for i in range(9)]\n",
        "\n",
        "def main():\n",
        "    while True:\n",
        "        print_board()\n",
        "        player_move('X')\n",
        "        print_board()\n",
        "        if is_victory('X'):\n",
        "            print(\"X wins! Congratulations!\")\n",
        "            break\n",
        "        elif is_draw():\n",
        "            print(\"It's a draw!\")\n",
        "            break\n",
        "        ai_move('O')\n",
        "        if is_victory('O'):\n",
        "            print_board()\n",
        "            print(\"O wins! Better luck next time.\")\n",
        "            break\n",
        "        elif is_draw():\n",
        "            print(\"It's a draw!\")\n",
        "            break\n",
        "\n",
        "if __name__ == \"__main__\":\n",
        "    main()"
      ],
      "metadata": {
        "colab": {
          "base_uri": "https://localhost:8080/"
        },
        "id": "3_G-BC5VZ_Co",
        "outputId": "993a02bf-e48e-41d2-c83e-46f6b5b722d5"
      },
      "execution_count": null,
      "outputs": [
        {
          "output_type": "stream",
          "name": "stdout",
          "text": [
            "     |     |   \n",
            "-----------------------\n",
            "     |     |   \n",
            "-----------------------\n",
            "     |     |   \n",
            "Where would you like to place your X (1-9)? 1\n",
            "  X  |     |   \n",
            "-----------------------\n",
            "     |     |   \n",
            "-----------------------\n",
            "     |     |   \n",
            "  X  |     |   \n",
            "-----------------------\n",
            "  O  |     |   \n",
            "-----------------------\n",
            "     |     |   \n",
            "Where would you like to place your X (1-9)? 5\n",
            "  X  |     |   \n",
            "-----------------------\n",
            "  O  |  X  |   \n",
            "-----------------------\n",
            "     |     |   \n",
            "  X  |     |   \n",
            "-----------------------\n",
            "  O  |  X  |   \n",
            "-----------------------\n",
            "     |     |  O\n",
            "Where would you like to place your X (1-9)? 3\n",
            "  X  |     |  X\n",
            "-----------------------\n",
            "  O  |  X  |   \n",
            "-----------------------\n",
            "     |     |  O\n",
            "  X  |  O  |  X\n",
            "-----------------------\n",
            "  O  |  X  |   \n",
            "-----------------------\n",
            "     |     |  O\n",
            "Where would you like to place your X (1-9)? 7\n",
            "  X  |  O  |  X\n",
            "-----------------------\n",
            "  O  |  X  |   \n",
            "-----------------------\n",
            "  X  |     |  O\n",
            "X wins! Congratulations!\n"
          ]
        }
      ]
    },
    {
      "cell_type": "markdown",
      "source": [
        "# Explanation of the above code: "
      ],
      "metadata": {
        "id": "EShg_odkITp1"
      }
    },
    {
      "cell_type": "markdown",
      "source": [
        "This code is an implementation of the game Tic Tac Toe. Tic Tac Toe is a two player game where each player takes turns marking the spaces in a 3x3 grid with either an X or an O. The player who succeeds in placing three of their marks in a horizontal, vertical, or diagonal row wins the game.\n",
        "\n",
        "The code has several functions:\n",
        "\n",
        "print_board(): This function takes the current state of the game board and displays it in a 3x3 grid format. The game board is stored as a list, with each element representing one of the spaces on the board. An empty space is represented by a space character (' '), while an X or an O is represented by the corresponding letter.\n",
        "\n",
        "is_victory(player): This function takes a player ('X' or 'O') as input and checks if that player has won the game by having three of their marks in a row. The function defines a list of victory conditions, which are sets of three board indices that represent a row, column, or diagonal. If all the board elements at those indices match the player, the function returns True, indicating a win. Otherwise, it returns False.\n",
        "\n",
        "is_draw(): This function checks if the game has ended in a draw by checking if all the spaces on the board have been filled. If all the spaces are filled and no player has won, the function returns True, indicating a draw. Otherwise, it returns False.\n",
        "\n",
        "player_move(player): This function takes a player ('X' or 'O') as input and allows the player to make a move by choosing a space on the board. The function continuously prompts the player for a move until they provide a valid move. A move is considered valid if it is an integer between 1 and 9 (representing the indices of the spaces on the board), and the space is not already occupied by another player's mark.\n",
        "\n",
        "ai_move(player): This function allows the computer (the 'O' player) to make a move by choosing the next available space on the board. The function uses a list of \"magic numbers\" (4, 9, 2, 7, 5, 3, 6, 1, 8) to determine the order in which spaces should be selected. The first available space that is found is chosen and marked with the player's mark.\n",
        "\n",
        "main(): This function is the main game loop that controls the flow of the game. It starts by printing the current state of the board and allowing the player to make a move. If the player wins, the function displays a victory message and ends the game. If the computer wins, the function displays a message and ends the game. If the game ends in a draw, the function displays a message and ends the game. The loop continues until one of these conditions is met.\n",
        "\n",
        "Finally, the code checks if the script is being run as the main program (if __name__ == \"__main__\":), and if so, calls the main() function to start the game."
      ],
      "metadata": {
        "id": "quNGry6AIaKM"
      }
    }
  ]
}