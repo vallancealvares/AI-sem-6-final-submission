{
  "nbformat": 4,
  "nbformat_minor": 0,
  "metadata": {
    "colab": {
      "provenance": []
    },
    "kernelspec": {
      "name": "python3",
      "display_name": "Python 3"
    },
    "language_info": {
      "name": "python"
    }
  },
  "cells": [
    {
      "cell_type": "code",
      "execution_count": null,
      "metadata": {
        "id": "oKarUE45QIEp"
      },
      "outputs": [],
      "source": [
        "#!/usr/bin/env swipl\n",
        "\n",
        ":- initialization(main).\n",
        "\n",
        "main :-\n",
        "    write('Hello, World!')."
      ]
    },
    {
      "cell_type": "code",
      "source": [
        "% member/2: check if an element is a member of a list\n",
        "my_member(X, [X|_]).\n",
        "my_member(X, [_|T]) :- my_member(X, T)."
      ],
      "metadata": {
        "id": "QqkDXuIH2RfO"
      },
      "execution_count": null,
      "outputs": []
    },
    {
      "cell_type": "code",
      "source": [
        "append_lists([], L2, L2).\n",
        "append_lists([H|T], L2, [H|Result]) :- append_lists(T, L2, Result)."
      ],
      "metadata": {
        "id": "5H_jpNZ_2T4Q"
      },
      "execution_count": null,
      "outputs": []
    },
    {
      "cell_type": "code",
      "source": [
        "reverse_list([], []).\n",
        "reverse_list([Head|Tail], Reversed) :-\n",
        "    reverse_list(Tail, ReversedTail),\n",
        "    append(ReversedTail, [Head], Reversed)."
      ],
      "metadata": {
        "id": "fIQLrmIK2WZH"
      },
      "execution_count": null,
      "outputs": []
    },
    {
      "cell_type": "code",
      "source": [
        "list_length([], 0).\n",
        "list_length([_|T], N) :- list_length(T, N1), N is N1 + 1."
      ],
      "metadata": {
        "id": "6a1ATng22Y2o"
      },
      "execution_count": null,
      "outputs": []
    },
    {
      "cell_type": "code",
      "source": [
        "max(X,Y,Max) :-\n",
        "    X > Y,\n",
        "    Max is X.\n",
        "max(X,Y,Max) :-\n",
        "    X =< Y,\n",
        "    Max is Y."
      ],
      "metadata": {
        "id": "jCRHGW0P2bl8"
      },
      "execution_count": null,
      "outputs": []
    },
    {
      "cell_type": "code",
      "source": [
        "factorial(0, 1).\n",
        "factorial(N, F) :-\n",
        "    N > 0,\n",
        "    N1 is N - 1,\n",
        "    factorial(N1, F1),\n",
        "    F is N * F1."
      ],
      "metadata": {
        "id": "iTdKhMHO2en7"
      },
      "execution_count": null,
      "outputs": []
    },
    {
      "cell_type": "code",
      "source": [
        "fib(0, 0).\n",
        "fib(1, 1).\n",
        "fib(N, F) :-\n",
        "   N > 1,\n",
        "   N1 is N - 1,\n",
        "   N2 is N - 2,\n",
        "   fib(N1, F1),\n",
        "   fib(N2, F2),\n",
        "   F is F1 + F2."
      ],
      "metadata": {
        "id": "6xp2LaDz2hKa"
      },
      "execution_count": null,
      "outputs": []
    },
    {
      "cell_type": "code",
      "source": [
        "sum([], 0).                % base case\n",
        "sum([X | Rest], Total) :-   % recursive case\n",
        "    sum(Rest, Sum),         % calculate sum of rest of list\n",
        "    Total is X + Sum.       % add first element to sum of rest"
      ],
      "metadata": {
        "id": "5CEq-sQk2jqV"
      },
      "execution_count": null,
      "outputs": []
    },
    {
      "cell_type": "code",
      "source": [
        "smallest([X], X).\n",
        "smallest([H|T], X) :- smallest(T, Y), (H < Y -> X = H ; X = Y)."
      ],
      "metadata": {
        "id": "FEfsLuXq2oap"
      },
      "execution_count": null,
      "outputs": []
    }
  ]
}